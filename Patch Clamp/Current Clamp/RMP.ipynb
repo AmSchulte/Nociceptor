{
 "cells": [
  {
   "cell_type": "code",
   "execution_count": 13,
   "id": "890de093",
   "metadata": {},
   "outputs": [
    {
     "name": "stdout",
     "output_type": "stream",
     "text": [
      "The autoreload extension is already loaded. To reload it, use:\n",
      "  %reload_ext autoreload\n"
     ]
    }
   ],
   "source": [
    "%load_ext autoreload\n",
    "\n",
    "%autoreload 2\n",
    "\n",
    "import pandas as pd\n",
    "import numpy as np\n",
    "import matplotlib.pyplot as plt\n",
    "from scipy import signal\n",
    "from sweep import Sweep\n",
    "import os\n",
    "import seaborn as sns\n",
    "from scipy import stats\n",
    "\n",
    "import scikit_posthocs as sp\n",
    "import json"
   ]
  },
  {
   "cell_type": "code",
   "execution_count": 4,
   "id": "06636c71",
   "metadata": {},
   "outputs": [],
   "source": [
    "dpi14_path = '14 dpi/RMP/'\n",
    "dpi15_path = '15 dpi/RMP/'\n",
    "dpi16_path = '16 dpi/RMP/'\n",
    "dpi17_path = '17 dpi/RMP/'\n",
    "drg_path = 'DRG/RMP'"
   ]
  },
  {
   "cell_type": "code",
   "execution_count": 9,
   "id": "ca53a400",
   "metadata": {},
   "outputs": [],
   "source": [
    "def get_rmps(path):\n",
    "    rmps = []\n",
    "    for filename in os.listdir(path):\n",
    "        filepath = os.path.join(path, filename)\n",
    "        data_rmp = Sweep(filepath)\n",
    "        rmp = data_rmp.voltage.mean()\n",
    "        rmps.append(rmp)\n",
    "    return rmps"
   ]
  },
  {
   "cell_type": "code",
   "execution_count": 11,
   "id": "0fa45a95",
   "metadata": {},
   "outputs": [],
   "source": [
    "all_rmps = {'14dpi': get_rmps(dpi14_path),\n",
    "            '15dpi': get_rmps(dpi15_path),\n",
    "            '16dpi': get_rmps(dpi16_path),\n",
    "            '17dpi': get_rmps(dpi17_path),\n",
    "            'drg': get_rmps(drg_path)}"
   ]
  },
  {
   "cell_type": "code",
   "execution_count": 15,
   "id": "0e1e9ea7",
   "metadata": {},
   "outputs": [],
   "source": [
    "with open(\"RMP.json\", \"w\") as outfile:\n",
    "    json.dump(all_rmps, outfile, indent=4)"
   ]
  },
  {
   "cell_type": "code",
   "execution_count": null,
   "id": "ac6c5d2e",
   "metadata": {},
   "outputs": [],
   "source": []
  }
 ],
 "metadata": {
  "kernelspec": {
   "display_name": "Python 3",
   "language": "python",
   "name": "python3"
  },
  "language_info": {
   "codemirror_mode": {
    "name": "ipython",
    "version": 3
   },
   "file_extension": ".py",
   "mimetype": "text/x-python",
   "name": "python",
   "nbconvert_exporter": "python",
   "pygments_lexer": "ipython3",
   "version": "3.8.8"
  }
 },
 "nbformat": 4,
 "nbformat_minor": 5
}
